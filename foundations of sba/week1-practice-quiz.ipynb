{
 "cells": [
  {
   "cell_type": "code",
   "execution_count": 267,
   "id": "bf985752-220b-480a-b6c3-1a9358cd5ab7",
   "metadata": {},
   "outputs": [
    {
     "name": "stdout",
     "output_type": "stream",
     "text": [
      "Python 3.11.7\n"
     ]
    }
   ],
   "source": [
    "!python --version"
   ]
  },
  {
   "cell_type": "code",
   "execution_count": 268,
   "id": "30b6a98f-0063-4877-a194-e27c0647037d",
   "metadata": {},
   "outputs": [
    {
     "name": "stdout",
     "output_type": "stream",
     "text": [
      "Requirement already satisfied: pandas in /Users/hanz/.local/share/rtx/installs/python/3.11.7/lib/python3.11/site-packages (2.1.4)\n",
      "Requirement already satisfied: numpy in /Users/hanz/.local/share/rtx/installs/python/3.11.7/lib/python3.11/site-packages (1.26.3)\n",
      "Requirement already satisfied: matplotlib in /Users/hanz/.local/share/rtx/installs/python/3.11.7/lib/python3.11/site-packages (3.8.2)\n",
      "Requirement already satisfied: python-dateutil>=2.8.2 in /Users/hanz/.local/share/rtx/installs/python/3.11.7/lib/python3.11/site-packages (from pandas) (2.8.2)\n",
      "Requirement already satisfied: pytz>=2020.1 in /Users/hanz/.local/share/rtx/installs/python/3.11.7/lib/python3.11/site-packages (from pandas) (2023.3.post1)\n",
      "Requirement already satisfied: tzdata>=2022.1 in /Users/hanz/.local/share/rtx/installs/python/3.11.7/lib/python3.11/site-packages (from pandas) (2023.4)\n",
      "Requirement already satisfied: contourpy>=1.0.1 in /Users/hanz/.local/share/rtx/installs/python/3.11.7/lib/python3.11/site-packages (from matplotlib) (1.2.0)\n",
      "Requirement already satisfied: cycler>=0.10 in /Users/hanz/.local/share/rtx/installs/python/3.11.7/lib/python3.11/site-packages (from matplotlib) (0.12.1)\n",
      "Requirement already satisfied: fonttools>=4.22.0 in /Users/hanz/.local/share/rtx/installs/python/3.11.7/lib/python3.11/site-packages (from matplotlib) (4.47.0)\n",
      "Requirement already satisfied: kiwisolver>=1.3.1 in /Users/hanz/.local/share/rtx/installs/python/3.11.7/lib/python3.11/site-packages (from matplotlib) (1.4.5)\n",
      "Requirement already satisfied: packaging>=20.0 in /Users/hanz/.local/share/rtx/installs/python/3.11.7/lib/python3.11/site-packages (from matplotlib) (23.2)\n",
      "Requirement already satisfied: pillow>=8 in /Users/hanz/.local/share/rtx/installs/python/3.11.7/lib/python3.11/site-packages (from matplotlib) (10.1.0)\n",
      "Requirement already satisfied: pyparsing>=2.3.1 in /Users/hanz/.local/share/rtx/installs/python/3.11.7/lib/python3.11/site-packages (from matplotlib) (3.1.1)\n",
      "Requirement already satisfied: six>=1.5 in /Users/hanz/.local/share/rtx/installs/python/3.11.7/lib/python3.11/site-packages (from python-dateutil>=2.8.2->pandas) (1.16.0)\n",
      "\n",
      "\u001b[1m[\u001b[0m\u001b[34;49mnotice\u001b[0m\u001b[1;39;49m]\u001b[0m\u001b[39;49m A new release of pip is available: \u001b[0m\u001b[31;49m23.3.1\u001b[0m\u001b[39;49m -> \u001b[0m\u001b[32;49m23.3.2\u001b[0m\n",
      "\u001b[1m[\u001b[0m\u001b[34;49mnotice\u001b[0m\u001b[1;39;49m]\u001b[0m\u001b[39;49m To update, run: \u001b[0m\u001b[32;49mpip install --upgrade pip\u001b[0m\n"
     ]
    }
   ],
   "source": [
    "!python -m pip install pandas numpy matplotlib"
   ]
  },
  {
   "cell_type": "code",
   "execution_count": 3,
   "id": "c4d25b99-df86-430a-8233-a951f4cc43ba",
   "metadata": {},
   "outputs": [],
   "source": [
    "import pandas as pd\n",
    "import numpy as np\n",
    "import matplotlib.pyplot as plt"
   ]
  },
  {
   "cell_type": "code",
   "execution_count": 4,
   "id": "3868477c-cf13-46cb-830b-c1c64eb27593",
   "metadata": {},
   "outputs": [
    {
     "data": {
      "text/html": [
       "<div>\n",
       "<style scoped>\n",
       "    .dataframe tbody tr th:only-of-type {\n",
       "        vertical-align: middle;\n",
       "    }\n",
       "\n",
       "    .dataframe tbody tr th {\n",
       "        vertical-align: top;\n",
       "    }\n",
       "\n",
       "    .dataframe thead th {\n",
       "        text-align: right;\n",
       "    }\n",
       "</style>\n",
       "<table border=\"1\" class=\"dataframe\">\n",
       "  <thead>\n",
       "    <tr style=\"text-align: right;\">\n",
       "      <th></th>\n",
       "      <th>HHID</th>\n",
       "      <th>TIME</th>\n",
       "      <th>PASTA</th>\n",
       "      <th>EXPOS</th>\n",
       "      <th>AGE</th>\n",
       "      <th>INCOME</th>\n",
       "      <th>AREA</th>\n",
       "    </tr>\n",
       "  </thead>\n",
       "  <tbody>\n",
       "    <tr>\n",
       "      <th>count</th>\n",
       "      <td>40000.000000</td>\n",
       "      <td>40000.000000</td>\n",
       "      <td>40000.000000</td>\n",
       "      <td>40000.000000</td>\n",
       "      <td>40000.000000</td>\n",
       "      <td>40000.000000</td>\n",
       "      <td>40000.000000</td>\n",
       "    </tr>\n",
       "    <tr>\n",
       "      <th>mean</th>\n",
       "      <td>1000.500000</td>\n",
       "      <td>10.500000</td>\n",
       "      <td>1.841545</td>\n",
       "      <td>0.499100</td>\n",
       "      <td>42.251409</td>\n",
       "      <td>27096.126112</td>\n",
       "      <td>2.996000</td>\n",
       "    </tr>\n",
       "    <tr>\n",
       "      <th>std</th>\n",
       "      <td>577.357414</td>\n",
       "      <td>5.766353</td>\n",
       "      <td>1.025911</td>\n",
       "      <td>0.702041</td>\n",
       "      <td>13.766646</td>\n",
       "      <td>15928.188291</td>\n",
       "      <td>1.409622</td>\n",
       "    </tr>\n",
       "    <tr>\n",
       "      <th>min</th>\n",
       "      <td>1.000000</td>\n",
       "      <td>1.000000</td>\n",
       "      <td>0.000000</td>\n",
       "      <td>0.000000</td>\n",
       "      <td>18.007529</td>\n",
       "      <td>609.107170</td>\n",
       "      <td>1.000000</td>\n",
       "    </tr>\n",
       "    <tr>\n",
       "      <th>25%</th>\n",
       "      <td>500.750000</td>\n",
       "      <td>5.750000</td>\n",
       "      <td>1.108936</td>\n",
       "      <td>0.000000</td>\n",
       "      <td>30.505706</td>\n",
       "      <td>15379.591862</td>\n",
       "      <td>2.000000</td>\n",
       "    </tr>\n",
       "    <tr>\n",
       "      <th>50%</th>\n",
       "      <td>1000.500000</td>\n",
       "      <td>10.500000</td>\n",
       "      <td>1.811417</td>\n",
       "      <td>0.000000</td>\n",
       "      <td>42.436092</td>\n",
       "      <td>24487.068020</td>\n",
       "      <td>3.000000</td>\n",
       "    </tr>\n",
       "    <tr>\n",
       "      <th>75%</th>\n",
       "      <td>1500.250000</td>\n",
       "      <td>15.250000</td>\n",
       "      <td>2.534365</td>\n",
       "      <td>1.000000</td>\n",
       "      <td>54.362395</td>\n",
       "      <td>35272.533787</td>\n",
       "      <td>4.000000</td>\n",
       "    </tr>\n",
       "    <tr>\n",
       "      <th>max</th>\n",
       "      <td>2000.000000</td>\n",
       "      <td>20.000000</td>\n",
       "      <td>6.592769</td>\n",
       "      <td>5.000000</td>\n",
       "      <td>64.984126</td>\n",
       "      <td>141066.966883</td>\n",
       "      <td>5.000000</td>\n",
       "    </tr>\n",
       "  </tbody>\n",
       "</table>\n",
       "</div>"
      ],
      "text/plain": [
       "               HHID          TIME         PASTA         EXPOS           AGE  \\\n",
       "count  40000.000000  40000.000000  40000.000000  40000.000000  40000.000000   \n",
       "mean    1000.500000     10.500000      1.841545      0.499100     42.251409   \n",
       "std      577.357414      5.766353      1.025911      0.702041     13.766646   \n",
       "min        1.000000      1.000000      0.000000      0.000000     18.007529   \n",
       "25%      500.750000      5.750000      1.108936      0.000000     30.505706   \n",
       "50%     1000.500000     10.500000      1.811417      0.000000     42.436092   \n",
       "75%     1500.250000     15.250000      2.534365      1.000000     54.362395   \n",
       "max     2000.000000     20.000000      6.592769      5.000000     64.984126   \n",
       "\n",
       "              INCOME          AREA  \n",
       "count   40000.000000  40000.000000  \n",
       "mean    27096.126112      2.996000  \n",
       "std     15928.188291      1.409622  \n",
       "min       609.107170      1.000000  \n",
       "25%     15379.591862      2.000000  \n",
       "50%     24487.068020      3.000000  \n",
       "75%     35272.533787      4.000000  \n",
       "max    141066.966883      5.000000  "
      ]
     },
     "execution_count": 4,
     "metadata": {},
     "output_type": "execute_result"
    }
   ],
   "source": [
    "# week 1\n",
    "# practice quiz\n",
    "df = pd.read_csv(\"./week1-practice-dataset.csv\")\n",
    "df.describe()"
   ]
  },
  {
   "cell_type": "code",
   "execution_count": 5,
   "id": "acb27018-50c5-48a8-8fa2-fe9232d513bf",
   "metadata": {},
   "outputs": [
    {
     "data": {
      "text/html": [
       "<div>\n",
       "<style scoped>\n",
       "    .dataframe tbody tr th:only-of-type {\n",
       "        vertical-align: middle;\n",
       "    }\n",
       "\n",
       "    .dataframe tbody tr th {\n",
       "        vertical-align: top;\n",
       "    }\n",
       "\n",
       "    .dataframe thead th {\n",
       "        text-align: right;\n",
       "    }\n",
       "</style>\n",
       "<table border=\"1\" class=\"dataframe\">\n",
       "  <thead>\n",
       "    <tr style=\"text-align: right;\">\n",
       "      <th></th>\n",
       "      <th>HHID</th>\n",
       "      <th>TIME</th>\n",
       "      <th>PASTA</th>\n",
       "      <th>EXPOS</th>\n",
       "      <th>AGE</th>\n",
       "      <th>INCOME</th>\n",
       "      <th>AREA</th>\n",
       "    </tr>\n",
       "  </thead>\n",
       "  <tbody>\n",
       "    <tr>\n",
       "      <th>0</th>\n",
       "      <td>1</td>\n",
       "      <td>1</td>\n",
       "      <td>0.939444</td>\n",
       "      <td>1</td>\n",
       "      <td>61.710758</td>\n",
       "      <td>25186.798772</td>\n",
       "      <td>3</td>\n",
       "    </tr>\n",
       "    <tr>\n",
       "      <th>1</th>\n",
       "      <td>1</td>\n",
       "      <td>2</td>\n",
       "      <td>2.560969</td>\n",
       "      <td>2</td>\n",
       "      <td>61.710758</td>\n",
       "      <td>25186.798772</td>\n",
       "      <td>3</td>\n",
       "    </tr>\n",
       "    <tr>\n",
       "      <th>2</th>\n",
       "      <td>1</td>\n",
       "      <td>3</td>\n",
       "      <td>0.901123</td>\n",
       "      <td>0</td>\n",
       "      <td>61.710758</td>\n",
       "      <td>25186.798772</td>\n",
       "      <td>3</td>\n",
       "    </tr>\n",
       "    <tr>\n",
       "      <th>3</th>\n",
       "      <td>1</td>\n",
       "      <td>4</td>\n",
       "      <td>1.916530</td>\n",
       "      <td>1</td>\n",
       "      <td>61.710758</td>\n",
       "      <td>25186.798772</td>\n",
       "      <td>3</td>\n",
       "    </tr>\n",
       "    <tr>\n",
       "      <th>4</th>\n",
       "      <td>1</td>\n",
       "      <td>5</td>\n",
       "      <td>1.548751</td>\n",
       "      <td>0</td>\n",
       "      <td>61.710758</td>\n",
       "      <td>25186.798772</td>\n",
       "      <td>3</td>\n",
       "    </tr>\n",
       "    <tr>\n",
       "      <th>...</th>\n",
       "      <td>...</td>\n",
       "      <td>...</td>\n",
       "      <td>...</td>\n",
       "      <td>...</td>\n",
       "      <td>...</td>\n",
       "      <td>...</td>\n",
       "      <td>...</td>\n",
       "    </tr>\n",
       "    <tr>\n",
       "      <th>39995</th>\n",
       "      <td>2000</td>\n",
       "      <td>16</td>\n",
       "      <td>0.750441</td>\n",
       "      <td>1</td>\n",
       "      <td>44.996287</td>\n",
       "      <td>23161.628046</td>\n",
       "      <td>3</td>\n",
       "    </tr>\n",
       "    <tr>\n",
       "      <th>39996</th>\n",
       "      <td>2000</td>\n",
       "      <td>17</td>\n",
       "      <td>2.173094</td>\n",
       "      <td>0</td>\n",
       "      <td>44.996287</td>\n",
       "      <td>23161.628046</td>\n",
       "      <td>3</td>\n",
       "    </tr>\n",
       "    <tr>\n",
       "      <th>39997</th>\n",
       "      <td>2000</td>\n",
       "      <td>18</td>\n",
       "      <td>1.195418</td>\n",
       "      <td>0</td>\n",
       "      <td>44.996287</td>\n",
       "      <td>23161.628046</td>\n",
       "      <td>3</td>\n",
       "    </tr>\n",
       "    <tr>\n",
       "      <th>39998</th>\n",
       "      <td>2000</td>\n",
       "      <td>19</td>\n",
       "      <td>2.349278</td>\n",
       "      <td>1</td>\n",
       "      <td>44.996287</td>\n",
       "      <td>23161.628046</td>\n",
       "      <td>3</td>\n",
       "    </tr>\n",
       "    <tr>\n",
       "      <th>39999</th>\n",
       "      <td>2000</td>\n",
       "      <td>20</td>\n",
       "      <td>0.951419</td>\n",
       "      <td>0</td>\n",
       "      <td>44.996287</td>\n",
       "      <td>23161.628046</td>\n",
       "      <td>3</td>\n",
       "    </tr>\n",
       "  </tbody>\n",
       "</table>\n",
       "<p>40000 rows × 7 columns</p>\n",
       "</div>"
      ],
      "text/plain": [
       "       HHID  TIME     PASTA  EXPOS        AGE        INCOME  AREA\n",
       "0         1     1  0.939444      1  61.710758  25186.798772     3\n",
       "1         1     2  2.560969      2  61.710758  25186.798772     3\n",
       "2         1     3  0.901123      0  61.710758  25186.798772     3\n",
       "3         1     4  1.916530      1  61.710758  25186.798772     3\n",
       "4         1     5  1.548751      0  61.710758  25186.798772     3\n",
       "...     ...   ...       ...    ...        ...           ...   ...\n",
       "39995  2000    16  0.750441      1  44.996287  23161.628046     3\n",
       "39996  2000    17  2.173094      0  44.996287  23161.628046     3\n",
       "39997  2000    18  1.195418      0  44.996287  23161.628046     3\n",
       "39998  2000    19  2.349278      1  44.996287  23161.628046     3\n",
       "39999  2000    20  0.951419      0  44.996287  23161.628046     3\n",
       "\n",
       "[40000 rows x 7 columns]"
      ]
     },
     "execution_count": 5,
     "metadata": {},
     "output_type": "execute_result"
    }
   ],
   "source": [
    "df"
   ]
  },
  {
   "cell_type": "code",
   "execution_count": 209,
   "id": "796f1185-1c7f-4f44-b8fb-ef941d9fec60",
   "metadata": {},
   "outputs": [
    {
     "data": {
      "image/png": "[encoded data removed]",
      "text/plain": [
       "<Figure size 640x480 with 1 Axes>"
      ]
     },
     "metadata": {},
     "output_type": "display_data"
    }
   ],
   "source": [
    "fig, ax = plt.subplots()\n",
    "ax.bar(\"AREA\", \"INCOME\", data=df, linewidth=0.5)\n",
    "plt.show()"
   ]
  },
  {
   "cell_type": "code",
   "execution_count": 6,
   "id": "53828a86-e08f-4e96-a639-2cdaf63832ef",
   "metadata": {},
   "outputs": [
    {
     "data": {
      "image/png": "[encoded data removed]",
      "text/plain": [
       "<Figure size 1600x600 with 1 Axes>"
      ]
     },
     "metadata": {},
     "output_type": "display_data"
    }
   ],
   "source": [
    "fig, ax = plt.subplots(figsize = (16, 6))\n",
    "ax.scatter(\"INCOME\", \"AREA\", data=df, linewidth=0.5)\n",
    "plt.show()"
   ]
  },
  {
   "cell_type": "code",
   "execution_count": 18,
   "id": "d60899b5-f540-4df1-94e0-790cd2ee8977",
   "metadata": {},
   "outputs": [
    {
     "data": {
      "text/plain": [
       "55.36193058243067"
      ]
     },
     "execution_count": 18,
     "metadata": {},
     "output_type": "execute_result"
    }
   ],
   "source": [
    "df.groupby(\"HHID\")[\"PASTA\"].sum().max()"
   ]
  },
  {
   "cell_type": "code",
   "execution_count": 207,
   "id": "080d8aba-c27b-41dc-964f-f879866fc8a6",
   "metadata": {},
   "outputs": [
    {
     "data": {
      "text/html": [
       "<div>\n",
       "<style scoped>\n",
       "    .dataframe tbody tr th:only-of-type {\n",
       "        vertical-align: middle;\n",
       "    }\n",
       "\n",
       "    .dataframe tbody tr th {\n",
       "        vertical-align: top;\n",
       "    }\n",
       "\n",
       "    .dataframe thead th {\n",
       "        text-align: right;\n",
       "    }\n",
       "</style>\n",
       "<table border=\"1\" class=\"dataframe\">\n",
       "  <thead>\n",
       "    <tr style=\"text-align: right;\">\n",
       "      <th></th>\n",
       "      <th>HHID</th>\n",
       "      <th>TIME</th>\n",
       "      <th>PASTA</th>\n",
       "      <th>EXPOS</th>\n",
       "      <th>AGE</th>\n",
       "      <th>INCOME</th>\n",
       "      <th>AREA</th>\n",
       "    </tr>\n",
       "  </thead>\n",
       "  <tbody>\n",
       "    <tr>\n",
       "      <th>count</th>\n",
       "      <td>8060.000000</td>\n",
       "      <td>8060.000000</td>\n",
       "      <td>8060.000000</td>\n",
       "      <td>8060.000000</td>\n",
       "      <td>8060.000000</td>\n",
       "      <td>8060.000000</td>\n",
       "      <td>8060.0</td>\n",
       "    </tr>\n",
       "    <tr>\n",
       "      <th>mean</th>\n",
       "      <td>1068.101737</td>\n",
       "      <td>10.500000</td>\n",
       "      <td>1.841477</td>\n",
       "      <td>0.496402</td>\n",
       "      <td>42.217914</td>\n",
       "      <td>29260.133137</td>\n",
       "      <td>4.0</td>\n",
       "    </tr>\n",
       "    <tr>\n",
       "      <th>std</th>\n",
       "      <td>554.521974</td>\n",
       "      <td>5.766639</td>\n",
       "      <td>1.027233</td>\n",
       "      <td>0.692872</td>\n",
       "      <td>13.645456</td>\n",
       "      <td>16280.430895</td>\n",
       "      <td>0.0</td>\n",
       "    </tr>\n",
       "    <tr>\n",
       "      <th>min</th>\n",
       "      <td>3.000000</td>\n",
       "      <td>1.000000</td>\n",
       "      <td>0.000000</td>\n",
       "      <td>0.000000</td>\n",
       "      <td>18.127332</td>\n",
       "      <td>1241.960729</td>\n",
       "      <td>4.0</td>\n",
       "    </tr>\n",
       "    <tr>\n",
       "      <th>25%</th>\n",
       "      <td>614.000000</td>\n",
       "      <td>5.750000</td>\n",
       "      <td>1.104326</td>\n",
       "      <td>0.000000</td>\n",
       "      <td>30.802340</td>\n",
       "      <td>16501.072967</td>\n",
       "      <td>4.0</td>\n",
       "    </tr>\n",
       "    <tr>\n",
       "      <th>50%</th>\n",
       "      <td>1100.000000</td>\n",
       "      <td>10.500000</td>\n",
       "      <td>1.816470</td>\n",
       "      <td>0.000000</td>\n",
       "      <td>42.396097</td>\n",
       "      <td>26499.489701</td>\n",
       "      <td>4.0</td>\n",
       "    </tr>\n",
       "    <tr>\n",
       "      <th>75%</th>\n",
       "      <td>1547.000000</td>\n",
       "      <td>15.250000</td>\n",
       "      <td>2.532061</td>\n",
       "      <td>1.000000</td>\n",
       "      <td>53.931768</td>\n",
       "      <td>39052.695544</td>\n",
       "      <td>4.0</td>\n",
       "    </tr>\n",
       "    <tr>\n",
       "      <th>max</th>\n",
       "      <td>1997.000000</td>\n",
       "      <td>20.000000</td>\n",
       "      <td>6.592769</td>\n",
       "      <td>4.000000</td>\n",
       "      <td>64.880865</td>\n",
       "      <td>112983.969631</td>\n",
       "      <td>4.0</td>\n",
       "    </tr>\n",
       "  </tbody>\n",
       "</table>\n",
       "</div>"
      ],
      "text/plain": [
       "              HHID         TIME        PASTA        EXPOS          AGE  \\\n",
       "count  8060.000000  8060.000000  8060.000000  8060.000000  8060.000000   \n",
       "mean   1068.101737    10.500000     1.841477     0.496402    42.217914   \n",
       "std     554.521974     5.766639     1.027233     0.692872    13.645456   \n",
       "min       3.000000     1.000000     0.000000     0.000000    18.127332   \n",
       "25%     614.000000     5.750000     1.104326     0.000000    30.802340   \n",
       "50%    1100.000000    10.500000     1.816470     0.000000    42.396097   \n",
       "75%    1547.000000    15.250000     2.532061     1.000000    53.931768   \n",
       "max    1997.000000    20.000000     6.592769     4.000000    64.880865   \n",
       "\n",
       "              INCOME    AREA  \n",
       "count    8060.000000  8060.0  \n",
       "mean    29260.133137     4.0  \n",
       "std     16280.430895     0.0  \n",
       "min      1241.960729     4.0  \n",
       "25%     16501.072967     4.0  \n",
       "50%     26499.489701     4.0  \n",
       "75%     39052.695544     4.0  \n",
       "max    112983.969631     4.0  "
      ]
     },
     "execution_count": 207,
     "metadata": {},
     "output_type": "execute_result"
    }
   ],
   "source": [
    "area_4 = df[df[\"AREA\"] == 4]\n",
    "\n",
    "area_4.describe()"
   ]
  },
  {
   "cell_type": "code",
   "execution_count": 52,
   "id": "ee189289-5867-42db-aeb5-9523c08c8e03",
   "metadata": {},
   "outputs": [
    {
     "data": {
      "text/plain": [
       "218"
      ]
     },
     "execution_count": 52,
     "metadata": {},
     "output_type": "execute_result"
    }
   ],
   "source": [
    "more_than_20k_in_area_2 = df[(df[\"AREA\"] == 2) & (df[\"INCOME\"] > 20000.0)]\n",
    "\n",
    "more_than_30_units_pasta = list(more_than_20k_in_area_2.groupby(\"HHID\")[\"PASTA\"].sum())\n",
    "\n",
    "len([x for x in more_than_30_units_pasta if x > 30])"
   ]
  },
  {
   "cell_type": "code",
   "execution_count": 7,
   "id": "9cea4087-a54a-429e-bc5c-dc8460729cc3",
   "metadata": {},
   "outputs": [
    {
     "data": {
      "text/plain": [
       "0.3266173773186488"
      ]
     },
     "execution_count": 7,
     "metadata": {},
     "output_type": "execute_result"
    }
   ],
   "source": [
    "df[\"PASTA\"].corr(df[\"EXPOS\"])"
   ]
  },
  {
   "cell_type": "code",
   "execution_count": 260,
   "id": "8cce91a7-cd7b-45c9-b747-e6c3a82553e5",
   "metadata": {},
   "outputs": [
    {
     "data": {
      "image/png": "[encoded data removed]",
      "text/plain": [
       "<Figure size 1400x600 with 1 Axes>"
      ]
     },
     "metadata": {},
     "output_type": "display_data"
    },
    {
     "data": {
      "text/plain": [
       "count    2000.000000\n",
       "mean       36.830891\n",
       "std         5.294744\n",
       "min        19.256710\n",
       "25%        33.145378\n",
       "50%        36.630192\n",
       "75%        40.578336\n",
       "max        55.361931\n",
       "Name: PASTA, dtype: float64"
      ]
     },
     "execution_count": 260,
     "metadata": {},
     "output_type": "execute_result"
    }
   ],
   "source": [
    "total_purchase_by_household = df.groupby([\"HHID\"])[\"PASTA\"].sum()\n",
    "\n",
    "fig, ax = plt.subplots(figsize = (14, 6))\n",
    "ax.hist(total_purchase_by_household, bins=7, edgecolor=\"black\")\n",
    "plt.show()\n",
    "\n",
    "total_purchase_by_household.describe()"
   ]
  },
  {
   "cell_type": "code",
   "execution_count": 264,
   "id": "94ae9e1e-8053-4294-be31-103e96d63a1b",
   "metadata": {},
   "outputs": [
    {
     "data": {
      "image/png": "[encoded data removed]",
      "text/plain": [
       "<Figure size 1400x600 with 1 Axes>"
      ]
     },
     "metadata": {},
     "output_type": "display_data"
    },
    {
     "data": {
      "text/plain": [
       "count      20.000000\n",
       "mean     3683.089077\n",
       "std        53.259832\n",
       "min      3577.707839\n",
       "25%      3661.056398\n",
       "50%      3694.904597\n",
       "75%      3710.188974\n",
       "max      3791.081083\n",
       "Name: PASTA, dtype: float64"
      ]
     },
     "execution_count": 264,
     "metadata": {},
     "output_type": "execute_result"
    }
   ],
   "source": [
    "total_purchase_by_time = df.groupby([\"TIME\"])[\"PASTA\"].sum()\n",
    "\n",
    "fig, ax = plt.subplots(figsize = (14, 6))\n",
    "ax.scatter(total_purchase_by_time.index, total_purchase_by_time.values)\n",
    "plt.show()\n",
    "\n",
    "total_purchase_by_time.describe()"
   ]
  }
 ],
 "metadata": {
  "kernelspec": {
   "display_name": "Python 3 (ipykernel)",
   "language": "python",
   "name": "python3"
  },
  "language_info": {
   "codemirror_mode": {
    "name": "ipython",
    "version": 3
   },
   "file_extension": ".py",
   "mimetype": "text/x-python",
   "name": "python",
   "nbconvert_exporter": "python",
   "pygments_lexer": "ipython3",
   "version": "3.11.7"
  }
 },
 "nbformat": 4,
 "nbformat_minor": 5
}
